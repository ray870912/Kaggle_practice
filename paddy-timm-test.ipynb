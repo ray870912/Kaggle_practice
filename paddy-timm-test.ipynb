{
 "cells": [
  {
   "cell_type": "code",
   "execution_count": 1,
   "id": "07447367",
   "metadata": {
    "_cell_guid": "b1076dfc-b9ad-4769-8c92-a6c4dae69d19",
    "_uuid": "8f2839f25d086af736a60e9eeb907d3b93b6e0e5",
    "execution": {
     "iopub.execute_input": "2022-08-04T14:10:45.270164Z",
     "iopub.status.busy": "2022-08-04T14:10:45.269708Z",
     "iopub.status.idle": "2022-08-04T14:11:10.848251Z",
     "shell.execute_reply": "2022-08-04T14:11:10.847108Z"
    },
    "papermill": {
     "duration": 25.586419,
     "end_time": "2022-08-04T14:11:10.850920",
     "exception": false,
     "start_time": "2022-08-04T14:10:45.264501",
     "status": "completed"
    },
    "tags": []
   },
   "outputs": [
    {
     "name": "stdout",
     "output_type": "stream",
     "text": [
      "Collecting fastai==2.7.1\r\n",
      "  Downloading fastai-2.7.1-py3-none-any.whl (213 kB)\r\n",
      "\u001b[2K     \u001b[90m━━━━━━━━━━━━━━━━━━━━━━━━━━━━━━━━━━━━━\u001b[0m \u001b[32m213.6/213.6 kB\u001b[0m \u001b[31m419.4 kB/s\u001b[0m eta \u001b[36m0:00:00\u001b[0m\r\n",
      "\u001b[?25hRequirement already satisfied: pyyaml in /opt/conda/lib/python3.7/site-packages (from fastai==2.7.1) (6.0)\r\n",
      "Requirement already satisfied: scikit-learn in /opt/conda/lib/python3.7/site-packages (from fastai==2.7.1) (1.0.2)\r\n",
      "Requirement already satisfied: packaging in /opt/conda/lib/python3.7/site-packages (from fastai==2.7.1) (21.3)\r\n",
      "Requirement already satisfied: pandas in /opt/conda/lib/python3.7/site-packages (from fastai==2.7.1) (1.3.5)\r\n",
      "Requirement already satisfied: requests in /opt/conda/lib/python3.7/site-packages (from fastai==2.7.1) (2.28.1)\r\n",
      "Requirement already satisfied: torchvision>=0.8.2 in /opt/conda/lib/python3.7/site-packages (from fastai==2.7.1) (0.12.0)\r\n",
      "Requirement already satisfied: fastprogress>=0.2.4 in /opt/conda/lib/python3.7/site-packages (from fastai==2.7.1) (1.0.2)\r\n",
      "Collecting fastcore<1.5,>=1.4.5\r\n",
      "  Downloading fastcore-1.4.5-py3-none-any.whl (61 kB)\r\n",
      "\u001b[2K     \u001b[90m━━━━━━━━━━━━━━━━━━━━━━━━━━━━━━━━━━━━━━━━\u001b[0m \u001b[32m61.3/61.3 kB\u001b[0m \u001b[31m1.6 MB/s\u001b[0m eta \u001b[36m0:00:00\u001b[0m\r\n",
      "\u001b[?25hRequirement already satisfied: pillow>6.0.0 in /opt/conda/lib/python3.7/site-packages (from fastai==2.7.1) (9.1.1)\r\n",
      "Requirement already satisfied: spacy<4 in /opt/conda/lib/python3.7/site-packages (from fastai==2.7.1) (3.3.1)\r\n",
      "Requirement already satisfied: pip in /opt/conda/lib/python3.7/site-packages (from fastai==2.7.1) (22.1.2)\r\n",
      "Requirement already satisfied: scipy in /opt/conda/lib/python3.7/site-packages (from fastai==2.7.1) (1.7.3)\r\n",
      "Requirement already satisfied: fastdownload<2,>=0.0.5 in /opt/conda/lib/python3.7/site-packages (from fastai==2.7.1) (0.0.7)\r\n",
      "Requirement already satisfied: matplotlib in /opt/conda/lib/python3.7/site-packages (from fastai==2.7.1) (3.5.2)\r\n",
      "Requirement already satisfied: torch<1.12,>=1.7.0 in /opt/conda/lib/python3.7/site-packages (from fastai==2.7.1) (1.11.0)\r\n",
      "Requirement already satisfied: setuptools in /opt/conda/lib/python3.7/site-packages (from spacy<4->fastai==2.7.1) (59.8.0)\r\n",
      "Requirement already satisfied: wasabi<1.1.0,>=0.9.1 in /opt/conda/lib/python3.7/site-packages (from spacy<4->fastai==2.7.1) (0.9.1)\r\n",
      "Requirement already satisfied: langcodes<4.0.0,>=3.2.0 in /opt/conda/lib/python3.7/site-packages (from spacy<4->fastai==2.7.1) (3.3.0)\r\n",
      "Requirement already satisfied: srsly<3.0.0,>=2.4.3 in /opt/conda/lib/python3.7/site-packages (from spacy<4->fastai==2.7.1) (2.4.3)\r\n",
      "Requirement already satisfied: typer<0.5.0,>=0.3.0 in /opt/conda/lib/python3.7/site-packages (from spacy<4->fastai==2.7.1) (0.4.2)\r\n",
      "Requirement already satisfied: preshed<3.1.0,>=3.0.2 in /opt/conda/lib/python3.7/site-packages (from spacy<4->fastai==2.7.1) (3.0.6)\r\n",
      "Requirement already satisfied: pathy>=0.3.5 in /opt/conda/lib/python3.7/site-packages (from spacy<4->fastai==2.7.1) (0.6.2)\r\n",
      "Requirement already satisfied: murmurhash<1.1.0,>=0.28.0 in /opt/conda/lib/python3.7/site-packages (from spacy<4->fastai==2.7.1) (1.0.7)\r\n",
      "Requirement already satisfied: pydantic!=1.8,!=1.8.1,<1.9.0,>=1.7.4 in /opt/conda/lib/python3.7/site-packages (from spacy<4->fastai==2.7.1) (1.8.2)\r\n",
      "Requirement already satisfied: spacy-legacy<3.1.0,>=3.0.9 in /opt/conda/lib/python3.7/site-packages (from spacy<4->fastai==2.7.1) (3.0.9)\r\n",
      "Requirement already satisfied: cymem<2.1.0,>=2.0.2 in /opt/conda/lib/python3.7/site-packages (from spacy<4->fastai==2.7.1) (2.0.6)\r\n",
      "Requirement already satisfied: thinc<8.1.0,>=8.0.14 in /opt/conda/lib/python3.7/site-packages (from spacy<4->fastai==2.7.1) (8.0.17)\r\n",
      "Requirement already satisfied: numpy>=1.15.0 in /opt/conda/lib/python3.7/site-packages (from spacy<4->fastai==2.7.1) (1.21.6)\r\n",
      "Requirement already satisfied: blis<0.8.0,>=0.4.0 in /opt/conda/lib/python3.7/site-packages (from spacy<4->fastai==2.7.1) (0.7.8)\r\n",
      "Requirement already satisfied: spacy-loggers<2.0.0,>=1.0.0 in /opt/conda/lib/python3.7/site-packages (from spacy<4->fastai==2.7.1) (1.0.3)\r\n",
      "Requirement already satisfied: tqdm<5.0.0,>=4.38.0 in /opt/conda/lib/python3.7/site-packages (from spacy<4->fastai==2.7.1) (4.64.0)\r\n",
      "Requirement already satisfied: typing-extensions<4.2.0,>=3.7.4 in /opt/conda/lib/python3.7/site-packages (from spacy<4->fastai==2.7.1) (4.1.1)\r\n",
      "Requirement already satisfied: catalogue<2.1.0,>=2.0.6 in /opt/conda/lib/python3.7/site-packages (from spacy<4->fastai==2.7.1) (2.0.7)\r\n",
      "Requirement already satisfied: jinja2 in /opt/conda/lib/python3.7/site-packages (from spacy<4->fastai==2.7.1) (3.1.2)\r\n",
      "Requirement already satisfied: pyparsing!=3.0.5,>=2.0.2 in /opt/conda/lib/python3.7/site-packages (from packaging->fastai==2.7.1) (3.0.9)\r\n",
      "Requirement already satisfied: urllib3<1.27,>=1.21.1 in /opt/conda/lib/python3.7/site-packages (from requests->fastai==2.7.1) (1.26.9)\r\n",
      "Requirement already satisfied: certifi>=2017.4.17 in /opt/conda/lib/python3.7/site-packages (from requests->fastai==2.7.1) (2022.6.15)\r\n",
      "Requirement already satisfied: idna<4,>=2.5 in /opt/conda/lib/python3.7/site-packages (from requests->fastai==2.7.1) (3.3)\r\n",
      "Requirement already satisfied: charset-normalizer<3,>=2 in /opt/conda/lib/python3.7/site-packages (from requests->fastai==2.7.1) (2.1.0)\r\n",
      "Requirement already satisfied: python-dateutil>=2.7 in /opt/conda/lib/python3.7/site-packages (from matplotlib->fastai==2.7.1) (2.8.2)\r\n",
      "Requirement already satisfied: kiwisolver>=1.0.1 in /opt/conda/lib/python3.7/site-packages (from matplotlib->fastai==2.7.1) (1.4.3)\r\n",
      "Requirement already satisfied: fonttools>=4.22.0 in /opt/conda/lib/python3.7/site-packages (from matplotlib->fastai==2.7.1) (4.33.3)\r\n",
      "Requirement already satisfied: cycler>=0.10 in /opt/conda/lib/python3.7/site-packages (from matplotlib->fastai==2.7.1) (0.11.0)\r\n",
      "Requirement already satisfied: pytz>=2017.3 in /opt/conda/lib/python3.7/site-packages (from pandas->fastai==2.7.1) (2022.1)\r\n",
      "Requirement already satisfied: threadpoolctl>=2.0.0 in /opt/conda/lib/python3.7/site-packages (from scikit-learn->fastai==2.7.1) (3.1.0)\r\n",
      "Requirement already satisfied: joblib>=0.11 in /opt/conda/lib/python3.7/site-packages (from scikit-learn->fastai==2.7.1) (1.0.1)\r\n",
      "Requirement already satisfied: zipp>=0.5 in /opt/conda/lib/python3.7/site-packages (from catalogue<2.1.0,>=2.0.6->spacy<4->fastai==2.7.1) (3.8.0)\r\n",
      "Requirement already satisfied: smart-open<6.0.0,>=5.2.1 in /opt/conda/lib/python3.7/site-packages (from pathy>=0.3.5->spacy<4->fastai==2.7.1) (5.2.1)\r\n",
      "Requirement already satisfied: six>=1.5 in /opt/conda/lib/python3.7/site-packages (from python-dateutil>=2.7->matplotlib->fastai==2.7.1) (1.16.0)\r\n",
      "Requirement already satisfied: click<9.0.0,>=7.1.1 in /opt/conda/lib/python3.7/site-packages (from typer<0.5.0,>=0.3.0->spacy<4->fastai==2.7.1) (8.0.4)\r\n",
      "Requirement already satisfied: MarkupSafe>=2.0 in /opt/conda/lib/python3.7/site-packages (from jinja2->spacy<4->fastai==2.7.1) (2.0.1)\r\n",
      "Requirement already satisfied: importlib-metadata in /opt/conda/lib/python3.7/site-packages (from click<9.0.0,>=7.1.1->typer<0.5.0,>=0.3.0->spacy<4->fastai==2.7.1) (4.12.0)\r\n",
      "Installing collected packages: fastcore, fastai\r\n",
      "  Attempting uninstall: fastcore\r\n",
      "    Found existing installation: fastcore 1.5.6\r\n",
      "    Uninstalling fastcore-1.5.6:\r\n",
      "      Successfully uninstalled fastcore-1.5.6\r\n",
      "  Attempting uninstall: fastai\r\n",
      "    Found existing installation: fastai 2.7.7\r\n",
      "    Uninstalling fastai-2.7.7:\r\n",
      "      Successfully uninstalled fastai-2.7.7\r\n",
      "Successfully installed fastai-2.7.1 fastcore-1.4.5\r\n",
      "\u001b[33mWARNING: Running pip as the 'root' user can result in broken permissions and conflicting behaviour with the system package manager. It is recommended to use a virtual environment instead: https://pip.pypa.io/warnings/venv\u001b[0m\u001b[33m\r\n",
      "\u001b[0m\u001b[33mWARNING: Running pip as the 'root' user can result in broken permissions and conflicting behaviour with the system package manager. It is recommended to use a virtual environment instead: https://pip.pypa.io/warnings/venv\u001b[0m\u001b[33m\r\n",
      "\u001b[0m"
     ]
    }
   ],
   "source": [
    "!pip install fastai==2.7.1\n",
    "!pip install timm>=0.6.2.dev0"
   ]
  },
  {
   "cell_type": "code",
   "execution_count": 2,
   "id": "d3d7b751",
   "metadata": {
    "execution": {
     "iopub.execute_input": "2022-08-04T14:11:10.862004Z",
     "iopub.status.busy": "2022-08-04T14:11:10.861668Z",
     "iopub.status.idle": "2022-08-04T14:11:14.338836Z",
     "shell.execute_reply": "2022-08-04T14:11:14.337700Z"
    },
    "papermill": {
     "duration": 3.485818,
     "end_time": "2022-08-04T14:11:14.341627",
     "exception": false,
     "start_time": "2022-08-04T14:11:10.855809",
     "status": "completed"
    },
    "tags": []
   },
   "outputs": [],
   "source": [
    "from fastai.vision.all import *"
   ]
  },
  {
   "cell_type": "code",
   "execution_count": 3,
   "id": "5c2a9a80",
   "metadata": {
    "execution": {
     "iopub.execute_input": "2022-08-04T14:11:14.352719Z",
     "iopub.status.busy": "2022-08-04T14:11:14.351965Z",
     "iopub.status.idle": "2022-08-04T14:11:14.357186Z",
     "shell.execute_reply": "2022-08-04T14:11:14.356148Z"
    },
    "papermill": {
     "duration": 0.0133,
     "end_time": "2022-08-04T14:11:14.359634",
     "exception": false,
     "start_time": "2022-08-04T14:11:14.346334",
     "status": "completed"
    },
    "tags": []
   },
   "outputs": [],
   "source": [
    "train_path = '../input/paddy-disease-classification/train_images'\n",
    "test_path = '../input/paddy-disease-classification/test_images'"
   ]
  },
  {
   "cell_type": "code",
   "execution_count": 4,
   "id": "771c8c1c",
   "metadata": {
    "execution": {
     "iopub.execute_input": "2022-08-04T14:11:14.369334Z",
     "iopub.status.busy": "2022-08-04T14:11:14.369071Z",
     "iopub.status.idle": "2022-08-04T14:11:16.914958Z",
     "shell.execute_reply": "2022-08-04T14:11:16.914001Z"
    },
    "papermill": {
     "duration": 2.553423,
     "end_time": "2022-08-04T14:11:16.917379",
     "exception": false,
     "start_time": "2022-08-04T14:11:14.363956",
     "status": "completed"
    },
    "tags": []
   },
   "outputs": [],
   "source": [
    "test_files = get_image_files(test_path).sorted()"
   ]
  },
  {
   "cell_type": "code",
   "execution_count": 5,
   "id": "2a6471ef",
   "metadata": {
    "execution": {
     "iopub.execute_input": "2022-08-04T14:11:16.928958Z",
     "iopub.status.busy": "2022-08-04T14:11:16.927482Z",
     "iopub.status.idle": "2022-08-04T14:11:28.770781Z",
     "shell.execute_reply": "2022-08-04T14:11:28.769791Z"
    },
    "papermill": {
     "duration": 11.85113,
     "end_time": "2022-08-04T14:11:28.773173",
     "exception": false,
     "start_time": "2022-08-04T14:11:16.922043",
     "status": "completed"
    },
    "tags": []
   },
   "outputs": [],
   "source": [
    "# Load training Data\n",
    "dls = ImageDataLoaders.from_folder(train_path, valid_pct=0.2, item_tfms=Resize(640, 480),\n",
    "        batch_tfms=aug_transforms(size=224, min_scale=0.75), bs=64//2)"
   ]
  },
  {
   "cell_type": "code",
   "execution_count": 6,
   "id": "f586336e",
   "metadata": {
    "execution": {
     "iopub.execute_input": "2022-08-04T14:11:28.783542Z",
     "iopub.status.busy": "2022-08-04T14:11:28.783248Z",
     "iopub.status.idle": "2022-08-04T14:11:43.230762Z",
     "shell.execute_reply": "2022-08-04T14:11:43.229772Z"
    },
    "papermill": {
     "duration": 14.455375,
     "end_time": "2022-08-04T14:11:43.233282",
     "exception": false,
     "start_time": "2022-08-04T14:11:28.777907",
     "status": "completed"
    },
    "tags": []
   },
   "outputs": [],
   "source": [
    "learn = vision_learner(dls, 'vit_large_patch16_224', metrics=error_rate, cbs=GradientAccumulation(64)).to_fp16()"
   ]
  },
  {
   "cell_type": "code",
   "execution_count": 7,
   "id": "3db82ee7",
   "metadata": {
    "execution": {
     "iopub.execute_input": "2022-08-04T14:11:43.243906Z",
     "iopub.status.busy": "2022-08-04T14:11:43.243599Z",
     "iopub.status.idle": "2022-08-04T15:02:46.987907Z",
     "shell.execute_reply": "2022-08-04T15:02:46.986806Z"
    },
    "papermill": {
     "duration": 3063.752182,
     "end_time": "2022-08-04T15:02:46.990261",
     "exception": false,
     "start_time": "2022-08-04T14:11:43.238079",
     "status": "completed"
    },
    "tags": []
   },
   "outputs": [
    {
     "data": {
      "text/html": [
       "\n",
       "<style>\n",
       "    /* Turns off some styling */\n",
       "    progress {\n",
       "        /* gets rid of default border in Firefox and Opera. */\n",
       "        border: none;\n",
       "        /* Needs to be in here for Safari polyfill so background images work as expected. */\n",
       "        background-size: auto;\n",
       "    }\n",
       "    .progress-bar-interrupted, .progress-bar-interrupted::-webkit-progress-bar {\n",
       "        background: #F44336;\n",
       "    }\n",
       "</style>\n"
      ],
      "text/plain": [
       "<IPython.core.display.HTML object>"
      ]
     },
     "metadata": {},
     "output_type": "display_data"
    },
    {
     "data": {
      "text/html": [
       "<table border=\"1\" class=\"dataframe\">\n",
       "  <thead>\n",
       "    <tr style=\"text-align: left;\">\n",
       "      <th>epoch</th>\n",
       "      <th>train_loss</th>\n",
       "      <th>valid_loss</th>\n",
       "      <th>error_rate</th>\n",
       "      <th>time</th>\n",
       "    </tr>\n",
       "  </thead>\n",
       "  <tbody>\n",
       "    <tr>\n",
       "      <td>0</td>\n",
       "      <td>1.048502</td>\n",
       "      <td>0.603751</td>\n",
       "      <td>0.199904</td>\n",
       "      <td>06:34</td>\n",
       "    </tr>\n",
       "  </tbody>\n",
       "</table>"
      ],
      "text/plain": [
       "<IPython.core.display.HTML object>"
      ]
     },
     "metadata": {},
     "output_type": "display_data"
    },
    {
     "data": {
      "text/html": [
       "\n",
       "<style>\n",
       "    /* Turns off some styling */\n",
       "    progress {\n",
       "        /* gets rid of default border in Firefox and Opera. */\n",
       "        border: none;\n",
       "        /* Needs to be in here for Safari polyfill so background images work as expected. */\n",
       "        background-size: auto;\n",
       "    }\n",
       "    .progress-bar-interrupted, .progress-bar-interrupted::-webkit-progress-bar {\n",
       "        background: #F44336;\n",
       "    }\n",
       "</style>\n"
      ],
      "text/plain": [
       "<IPython.core.display.HTML object>"
      ]
     },
     "metadata": {},
     "output_type": "display_data"
    },
    {
     "data": {
      "text/html": [
       "<table border=\"1\" class=\"dataframe\">\n",
       "  <thead>\n",
       "    <tr style=\"text-align: left;\">\n",
       "      <th>epoch</th>\n",
       "      <th>train_loss</th>\n",
       "      <th>valid_loss</th>\n",
       "      <th>error_rate</th>\n",
       "      <th>time</th>\n",
       "    </tr>\n",
       "  </thead>\n",
       "  <tbody>\n",
       "    <tr>\n",
       "      <td>0</td>\n",
       "      <td>0.494400</td>\n",
       "      <td>0.329136</td>\n",
       "      <td>0.110043</td>\n",
       "      <td>08:53</td>\n",
       "    </tr>\n",
       "    <tr>\n",
       "      <td>1</td>\n",
       "      <td>0.372147</td>\n",
       "      <td>0.255575</td>\n",
       "      <td>0.068717</td>\n",
       "      <td>08:54</td>\n",
       "    </tr>\n",
       "    <tr>\n",
       "      <td>2</td>\n",
       "      <td>0.240472</td>\n",
       "      <td>0.162890</td>\n",
       "      <td>0.052859</td>\n",
       "      <td>08:53</td>\n",
       "    </tr>\n",
       "    <tr>\n",
       "      <td>3</td>\n",
       "      <td>0.133186</td>\n",
       "      <td>0.113397</td>\n",
       "      <td>0.036040</td>\n",
       "      <td>08:53</td>\n",
       "    </tr>\n",
       "    <tr>\n",
       "      <td>4</td>\n",
       "      <td>0.080501</td>\n",
       "      <td>0.111948</td>\n",
       "      <td>0.030274</td>\n",
       "      <td>08:54</td>\n",
       "    </tr>\n",
       "  </tbody>\n",
       "</table>"
      ],
      "text/plain": [
       "<IPython.core.display.HTML object>"
      ]
     },
     "metadata": {},
     "output_type": "display_data"
    }
   ],
   "source": [
    "learn.fine_tune(5, 0.005)"
   ]
  },
  {
   "cell_type": "code",
   "execution_count": 8,
   "id": "39df2876",
   "metadata": {
    "execution": {
     "iopub.execute_input": "2022-08-04T15:02:47.002049Z",
     "iopub.status.busy": "2022-08-04T15:02:47.001713Z",
     "iopub.status.idle": "2022-08-04T15:09:01.738970Z",
     "shell.execute_reply": "2022-08-04T15:09:01.737874Z"
    },
    "papermill": {
     "duration": 374.745711,
     "end_time": "2022-08-04T15:09:01.741273",
     "exception": false,
     "start_time": "2022-08-04T15:02:46.995562",
     "status": "completed"
    },
    "tags": []
   },
   "outputs": [
    {
     "data": {
      "text/html": [
       "\n",
       "<style>\n",
       "    /* Turns off some styling */\n",
       "    progress {\n",
       "        /* gets rid of default border in Firefox and Opera. */\n",
       "        border: none;\n",
       "        /* Needs to be in here for Safari polyfill so background images work as expected. */\n",
       "        background-size: auto;\n",
       "    }\n",
       "    .progress-bar-interrupted, .progress-bar-interrupted::-webkit-progress-bar {\n",
       "        background: #F44336;\n",
       "    }\n",
       "</style>\n"
      ],
      "text/plain": [
       "<IPython.core.display.HTML object>"
      ]
     },
     "metadata": {},
     "output_type": "display_data"
    },
    {
     "data": {
      "text/html": [
       "\n",
       "    <div>\n",
       "      <progress value='0' class='' max='5' style='width:300px; height:20px; vertical-align: middle;'></progress>\n",
       "      \n",
       "    </div>\n",
       "    \n"
      ],
      "text/plain": [
       "<IPython.core.display.HTML object>"
      ]
     },
     "metadata": {},
     "output_type": "display_data"
    },
    {
     "data": {
      "text/html": [
       "\n",
       "<style>\n",
       "    /* Turns off some styling */\n",
       "    progress {\n",
       "        /* gets rid of default border in Firefox and Opera. */\n",
       "        border: none;\n",
       "        /* Needs to be in here for Safari polyfill so background images work as expected. */\n",
       "        background-size: auto;\n",
       "    }\n",
       "    .progress-bar-interrupted, .progress-bar-interrupted::-webkit-progress-bar {\n",
       "        background: #F44336;\n",
       "    }\n",
       "</style>\n"
      ],
      "text/plain": [
       "<IPython.core.display.HTML object>"
      ]
     },
     "metadata": {},
     "output_type": "display_data"
    },
    {
     "data": {
      "text/html": [],
      "text/plain": [
       "<IPython.core.display.HTML object>"
      ]
     },
     "metadata": {},
     "output_type": "display_data"
    }
   ],
   "source": [
    "preds,_ = learn.tta(dl=dls.test_dl(test_files))"
   ]
  },
  {
   "cell_type": "code",
   "execution_count": 9,
   "id": "4ebc1c14",
   "metadata": {
    "execution": {
     "iopub.execute_input": "2022-08-04T15:09:01.753959Z",
     "iopub.status.busy": "2022-08-04T15:09:01.753320Z",
     "iopub.status.idle": "2022-08-04T15:09:01.759561Z",
     "shell.execute_reply": "2022-08-04T15:09:01.758744Z"
    },
    "papermill": {
     "duration": 0.014686,
     "end_time": "2022-08-04T15:09:01.761554",
     "exception": false,
     "start_time": "2022-08-04T15:09:01.746868",
     "status": "completed"
    },
    "tags": []
   },
   "outputs": [],
   "source": [
    "idxs = preds.argmax(dim=1)"
   ]
  },
  {
   "cell_type": "code",
   "execution_count": 10,
   "id": "57afb032",
   "metadata": {
    "execution": {
     "iopub.execute_input": "2022-08-04T15:09:01.774320Z",
     "iopub.status.busy": "2022-08-04T15:09:01.772775Z",
     "iopub.status.idle": "2022-08-04T15:09:01.787278Z",
     "shell.execute_reply": "2022-08-04T15:09:01.786419Z"
    },
    "papermill": {
     "duration": 0.02268,
     "end_time": "2022-08-04T15:09:01.789486",
     "exception": false,
     "start_time": "2022-08-04T15:09:01.766806",
     "status": "completed"
    },
    "tags": []
   },
   "outputs": [],
   "source": [
    "vocab = np.array(dls.vocab)\n",
    "results = pd.Series(vocab[idxs], name=\"idxs\")"
   ]
  },
  {
   "cell_type": "code",
   "execution_count": 11,
   "id": "95403909",
   "metadata": {
    "execution": {
     "iopub.execute_input": "2022-08-04T15:09:01.801317Z",
     "iopub.status.busy": "2022-08-04T15:09:01.801055Z",
     "iopub.status.idle": "2022-08-04T15:09:01.828504Z",
     "shell.execute_reply": "2022-08-04T15:09:01.827636Z"
    },
    "papermill": {
     "duration": 0.035956,
     "end_time": "2022-08-04T15:09:01.830569",
     "exception": false,
     "start_time": "2022-08-04T15:09:01.794613",
     "status": "completed"
    },
    "tags": []
   },
   "outputs": [],
   "source": [
    "submit = pd.read_csv('../input/paddy-disease-classification/sample_submission.csv')\n",
    "submit['label'] = results\n",
    "submit.to_csv('subm.csv', index=False)"
   ]
  }
 ],
 "metadata": {
  "kernelspec": {
   "display_name": "Python 3",
   "language": "python",
   "name": "python3"
  },
  "language_info": {
   "codemirror_mode": {
    "name": "ipython",
    "version": 3
   },
   "file_extension": ".py",
   "mimetype": "text/x-python",
   "name": "python",
   "nbconvert_exporter": "python",
   "pygments_lexer": "ipython3",
   "version": "3.7.12"
  },
  "papermill": {
   "default_parameters": {},
   "duration": 3507.022513,
   "end_time": "2022-08-04T15:09:04.451875",
   "environment_variables": {},
   "exception": null,
   "input_path": "__notebook__.ipynb",
   "output_path": "__notebook__.ipynb",
   "parameters": {},
   "start_time": "2022-08-04T14:10:37.429362",
   "version": "2.3.4"
  }
 },
 "nbformat": 4,
 "nbformat_minor": 5
}
